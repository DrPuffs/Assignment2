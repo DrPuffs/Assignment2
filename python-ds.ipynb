{
 "cells": [
  {
   "cell_type": "markdown",
   "metadata": {},
   "source": [
    "# Web Mining and Applied NLP (44-620)\n",
    "\n",
    "## Python Notebooks, Basics, and Data Structures\n",
    "\n",
    "### Student Name: Ryan Shaw\n",
    "\n",
    "Perform the tasks described in the Markdown cells below.  When you have completed the assignment make sure your code cells have all been run (and have output beneath them) and ensure you have committed and pushed ALL of your changes to your assignment repository.\n",
    "\n",
    "Every question that requires you to write code will have a code cell underneath it; you may either write your entire solution in that cell or write it in a python file (`.py`), then import and run the appropriate code to answer the question.\n",
    "\n",
    "Do not use external modules (`math`, etc) for this assignment unless you are explicitly instructed to, though you may use built in python functions (`min`, `max`, etc) as you wish."
   ]
  },
  {
   "cell_type": "markdown",
   "metadata": {},
   "source": [
    "1. Modify the Markdown cell above to put your name after \"Student Name:\"; you will be expected to do this in all assignments presented in this format for this class."
   ]
  },
  {
   "cell_type": "markdown",
   "metadata": {},
   "source": [
    "2. Write code that divides any two numbers, stores the result in a variable, and prints the result with an appropriate label."
   ]
  },
  {
   "cell_type": "code",
   "execution_count": 1,
   "metadata": {},
   "outputs": [
    {
     "name": "stdout",
     "output_type": "stream",
     "text": [
      "2.0\n"
     ]
    }
   ],
   "source": [
    "prob1 = 4/2\n",
    "print(prob1)"
   ]
  },
  {
   "cell_type": "markdown",
   "metadata": {},
   "source": [
    "3. Using loops (and potentially conditionals), write Python code that prints the factorial of each integer from 1 through 10 (which you can store in a variable if you want). The factorial of an integer is the product of all of the integers of 1 through the number. Print the result with an appropriate label."
   ]
  },
  {
   "cell_type": "code",
   "execution_count": 6,
   "metadata": {},
   "outputs": [
    {
     "name": "stdout",
     "output_type": "stream",
     "text": [
      "1\n",
      "2\n",
      "6\n",
      "24\n",
      "120\n",
      "720\n",
      "5040\n",
      "40320\n",
      "362880\n",
      "3628800\n"
     ]
    }
   ],
   "source": [
    "x = 11\n",
    "z = [1,2,3,4,5,6,7,8,9,10]\n",
    "\n",
    "for i in z:\n",
    "    if i == 1:\n",
    "        t = 1 * i\n",
    "        print(t)\n",
    "    else:\n",
    "        t = t * i\n",
    "        print(t)\n",
    "\n",
    "       \n",
    "            "
   ]
  },
  {
   "cell_type": "markdown",
   "metadata": {},
   "source": [
    "4. Write a python function that takes a single parameter and calculates and returns the average (mean) of the values in the parameter (which you may assume is iterable).  Show that your function works by printing the result of calling the function on the list in the cell below."
   ]
  },
  {
   "cell_type": "code",
   "execution_count": 26,
   "metadata": {},
   "outputs": [
    {
     "name": "stdout",
     "output_type": "stream",
     "text": [
      "0.0\n"
     ]
    }
   ],
   "source": [
    "testlist = [1,-1,2,-2,3,-3,4,-4]\n",
    "\n",
    "\n",
    "def mean(x):\n",
    "    z = 0\n",
    "    for i in x:\n",
    "        z += 1\n",
    "    y = sum(x)\n",
    "    avg = (y/z)\n",
    "    return avg\n",
    "\n",
    "print(mean(testlist))\n",
    "\n"
   ]
  },
  {
   "cell_type": "markdown",
   "metadata": {},
   "source": [
    "5. Using your mean function above, write a function that calculates the variance of the list of numbers (see https://en.wikipedia.org/wiki/Variance for more information on the formula). In short:\n",
    "* subtract the mean of the elements in the list from every element in the list; store these values in a new list\n",
    "* square every element in the new list and sum the elements together\n",
    "* divide the resulting number by N (where N is the length of the original list)\n",
    "\n",
    "Show the result of calling your function in the lists in the code cell. You must use one or more list comprehensions or map/filter in your code.\n"
   ]
  },
  {
   "cell_type": "code",
   "execution_count": 37,
   "metadata": {},
   "outputs": [
    {
     "name": "stdout",
     "output_type": "stream",
     "text": [
      "1.13973309\n",
      "0.9257232841\n"
     ]
    }
   ],
   "source": [
    "list1 = [ 5.670e-1, -1.480e+0, -5.570e-1, -1.470e+0, 7.340e-1, 1.050e+0, 4.480e-1, 2.570e-1, -1.970e+0, -1.460e+0]\n",
    "list2 = [-1.780e+0, 2.640e-1, 1.160e+0, 9.080e-1, 1.780e+0, 1.080e+0, 1.050e+0, -4.630e-2, 1.520e+0, 5.350e-1]\n",
    "# the variances of both lists should be relatively close to 1 (off by less than .15)\n",
    "def variance(v):\n",
    "    z = 0\n",
    "\n",
    "    newlist1 = [(i - mean(v)) for i in v]\n",
    "\n",
    "    newlist1 = [i**2 for i in newlist1]\n",
    "\n",
    "    x = sum(newlist1)\n",
    "\n",
    "    for i in list1:\n",
    "        z += 1\n",
    "    \n",
    "    y = x/z\n",
    "    return y\n",
    "\n",
    "print(variance(list1))\n",
    "print(variance(list2))"
   ]
  },
  {
   "cell_type": "markdown",
   "metadata": {},
   "source": [
    "6. Create a list with at least 15 elements in it. Use list slicing to print the following:\n",
    "* The first 5 elements of the list\n",
    "* The last 5 elements of the list\n",
    "* The list reversed (hint, show the entire list with a stride of -1)\n",
    "* Every second element in the list\n",
    "* Every third element in the list (stride of 3)"
   ]
  },
  {
   "cell_type": "code",
   "execution_count": 45,
   "metadata": {},
   "outputs": [
    {
     "name": "stdout",
     "output_type": "stream",
     "text": [
      "[1, 2, 3, 4, 5]\n",
      "[10, 11, 12, 13, 14]\n",
      "[15, 14, 13, 12, 11, 10, 9, 8, 7, 6, 5, 4, 3, 2, 1]\n",
      "[1, 3, 5, 7, 9, 11, 13, 15]\n",
      "[1, 4, 7, 10, 13]\n"
     ]
    }
   ],
   "source": [
    "list = [1,2,3,4,5,6,7,8,9,10,11,12,13,14,15]\n",
    "\n",
    "print(list[0:5])\n",
    "print(list[9:14])\n",
    "print(list[::-1])\n",
    "print(list[0:15:2])\n",
    "print(list[0:15:3])"
   ]
  },
  {
   "cell_type": "markdown",
   "metadata": {},
   "source": [
    "7. Build a dictionary that contains the following information about this class (with appropriate names as keys):\n",
    "* The name\n",
    "* The course number\n",
    "* The semester/term in which you are taking this course\n",
    "* The number of credit hours this course counts for\n",
    "* A list of the course learning objectives\n",
    "\n",
    "The majority of this information can be found in the syllabus. Print the dictionary."
   ]
  },
  {
   "cell_type": "code",
   "execution_count": 47,
   "metadata": {},
   "outputs": [
    {
     "name": "stdout",
     "output_type": "stream",
     "text": [
      "{'Course Name': 'Web Mining & Applied Natural Language Processing', 'Course Number': '44-620', 'Term': 'Fall 2022 - Block 2', 'Credit Hours': '3', 'Learning Objectives': ['Manage Python libraries and packages', 'Interact with Hosted Version Control Systems (e.g. Git and GitHub)', 'Programmatically obtain and transform data from web-based APIs and HTML pages into a usable form', 'Describe the steps in a basic Natural Language Processing Pipline', 'Use preexisting tools and software libraries to perform some Natural Language Processing, such as sentiment analysis', 'Explain results and conclusions drawn from the visualized information']}\n"
     ]
    }
   ],
   "source": [
    "course = {\n",
    "     'Course Name': 'Web Mining & Applied Natural Language Processing',\n",
    "     'Course Number': '44-620',\n",
    "     'Term': 'Fall 2022 - Block 2',\n",
    "     'Credit Hours': '3',\n",
    "     'Learning Objectives': ['Manage Python libraries and packages', 'Interact with Hosted Version Control Systems (e.g. Git and GitHub)', \n",
    "     'Programmatically obtain and transform data from web-based APIs and HTML pages into a usable form', 'Describe the steps in a basic Natural Language Processing Pipline', \n",
    "     'Use preexisting tools and software libraries to perform some Natural Language Processing, such as sentiment analysis', 'Explain results and conclusions drawn from the visualized information']\n",
    "}\n",
    "print(course)"
   ]
  },
  {
   "cell_type": "markdown",
   "metadata": {},
   "source": [
    "8.  Given the dictionary defined in the code cell below, print the list of level 3 spells the character has."
   ]
  },
  {
   "cell_type": "code",
   "execution_count": 49,
   "metadata": {},
   "outputs": [
    {
     "name": "stdout",
     "output_type": "stream",
     "text": [
      "['Mass Healing Word', 'Nondetection', 'Revivify', 'Feign Death', 'Speak with Dead']\n"
     ]
    }
   ],
   "source": [
    "player_character = {'name': 'Kitab',\n",
    "                   'class': [('Cleric: Knowledge', 7)],\n",
    "                   'spells': {'cantrip': ['Guidance', 'Light', 'Thaumaturgy', 'Toll the Dead', 'Word of Radiance'],\n",
    "                             'level 1': ['Command', 'Detect Magic', 'Healing Word', 'Identify', 'Sleep'],\n",
    "                             'level 2': ['Augury', 'Calm Emotions', 'Command', 'Invisibility', 'Lesser Restoration'],\n",
    "                             'level 3': ['Mass Healing Word', 'Nondetection', 'Revivify', 'Feign Death', 'Speak with Dead'],\n",
    "                             'level 4': ['Banishment', 'Confusion']}\n",
    "                   }\n",
    "\n",
    "print(player_character['spells']['level 3'])"
   ]
  },
  {
   "cell_type": "markdown",
   "metadata": {},
   "source": [
    "9. Write code to determine the number of unique elements in the list below.  You MUST use a set in finding your solution.  Print the number of unique values in the list with an appropriate label."
   ]
  },
  {
   "cell_type": "code",
   "execution_count": 55,
   "metadata": {},
   "outputs": [
    {
     "name": "stdout",
     "output_type": "stream",
     "text": [
      "12\n"
     ]
    }
   ],
   "source": [
    "values = [10, 11, 10, 8, 1, 12, 0, 1, 6, 5, 5, 13, 6, 15, 0, 0, 1, 1, 9, 7]\n",
    "\n",
    "z = 0\n",
    "\n",
    "x = set()\n",
    "for i in values:\n",
    "    x.add(i)\n",
    "\n",
    "for i in x:\n",
    "    z += 1\n",
    "\n",
    "print(z)\n",
    "\n"
   ]
  },
  {
   "cell_type": "markdown",
   "metadata": {},
   "source": [
    "10. Create a new Jupyter Notebook (the name of the notebook should be your S number). Add a Markdown cell that contains your name. Add a Code cell and write Python that uses loops to draw the following pattern:\n",
    "\n",
    "```\n",
    "*      *\n",
    "**    **\n",
    "***  ***\n",
    "********\n",
    "```\n",
    "Make sure to add and submit both the new notebook and the changes to this notebook for this assignment."
   ]
  }
 ],
 "metadata": {
  "kernelspec": {
   "display_name": "Python 3.8.5 32-bit",
   "language": "python",
   "name": "python3"
  },
  "language_info": {
   "codemirror_mode": {
    "name": "ipython",
    "version": 3
   },
   "file_extension": ".py",
   "mimetype": "text/x-python",
   "name": "python",
   "nbconvert_exporter": "python",
   "pygments_lexer": "ipython3",
   "version": "3.8.5"
  },
  "vscode": {
   "interpreter": {
    "hash": "298c87bb46c0ece7abcceec7d9fcd87435e079314f0dee0953f90f5b1b40d0e0"
   }
  }
 },
 "nbformat": 4,
 "nbformat_minor": 4
}
